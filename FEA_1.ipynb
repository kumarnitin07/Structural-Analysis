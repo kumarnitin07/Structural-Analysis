{
 "cells": [
  {
   "cell_type": "code",
   "execution_count": 46,
   "metadata": {},
   "outputs": [
    {
     "name": "stdout",
     "output_type": "stream",
     "text": [
      "Num_elems: 1 \tfrequency: 0.577 \terror: -63.245%\n",
      "Num_elems: 2 \tfrequency: 0.178 \terror: -88.691%\n",
      "Num_elems: 3 \tfrequency: 0.106 \terror: -93.247%\n",
      "Num_elems: 4 \tfrequency: 0.076 \terror: -95.141%\n",
      "Num_elems: 5 \tfrequency: 0.06 \terror: -96.189%\n",
      "Num_elems: 6 \tfrequency: 0.049 \terror: -96.858%\n",
      "Num_elems: 7 \tfrequency: 0.042 \terror: -97.325%\n",
      "Num_elems: 8 \tfrequency: 0.037 \terror: -97.67%\n",
      "Num_elems: 9 \tfrequency: 0.032 \terror: -97.935%\n",
      "Num_elems: 10 \tfrequency: 0.029 \terror: -98.145%\n",
      "Exact_frequency:  1.571\n"
     ]
    }
   ],
   "source": [
    "import numpy as np\n",
    "from scipy.linalg import eigh\n",
    "import math\n",
    "\n",
    "def bar(num_elems):\n",
    "    restrained_dofs = [0,]\n",
    "    # Elemnt mass and stiffness matrix for a bar\n",
    "    m = np.array([[2,1],[1,2]])/(6. * num_elems)\n",
    "    k = np.array([[1,-1],[-1,1]]) * float(num_elems)\n",
    "    \n",
    "    # construct global mass and stiffness matrix\n",
    "    M = np.zeros((num_elems+1, num_elems+1))\n",
    "    K = np.zeros((num_elems+1, num_elems+1))\n",
    "    \n",
    "    # assembly the elemnts\n",
    "    \n",
    "    for i in range(num_elems):\n",
    "        M_temp = np.zeros((num_elems+1, num_elems+1))\n",
    "        K_temp = np.zeros((num_elems+1, num_elems+1))\n",
    "        \n",
    "        M_temp[i:i+2, i:i+2] = m\n",
    "        K_temp[i:i+2, i:i+2] = k\n",
    "        M += M_temp\n",
    "        K += K_temp\n",
    "    \n",
    "    # remove the fixed degree of freedom\n",
    "    \n",
    "    for dof in restrained_dofs:\n",
    "        for i in [0, 1]:\n",
    "            M = np.delete(M, dof, axis = i)\n",
    "            K = np.delete(K, dof, axis = i)\n",
    "    \n",
    "    # solve the eigenvalue problem\n",
    "    \n",
    "        evals, evecs = eigh(M,K)\n",
    "        ## evecs = eigh(M, K)\n",
    "        frequency = np.sqrt(evals)\n",
    "    return M, K, frequency, evecs\n",
    "\n",
    "exact_frequency = math.pi/2    \n",
    "for i in range(1,11):\n",
    "    M, K, frequency, evecs =  bar(i)\n",
    "    error = ((frequency[0] - exact_frequency)/exact_frequency) * 100.0\n",
    "    print('Num_elems: {} \\tfrequency: {} \\terror: {}%'.format(i, round(frequency[0],3), round(error,3)))\n",
    "print('Exact_frequency: ' , round(exact_frequency,3))"
   ]
  },
  {
   "cell_type": "code",
   "execution_count": null,
   "metadata": {},
   "outputs": [],
   "source": []
  },
  {
   "cell_type": "code",
   "execution_count": null,
   "metadata": {},
   "outputs": [],
   "source": []
  }
 ],
 "metadata": {
  "kernelspec": {
   "display_name": "Python 3",
   "language": "python",
   "name": "python3"
  },
  "language_info": {
   "codemirror_mode": {
    "name": "ipython",
    "version": 3
   },
   "file_extension": ".py",
   "mimetype": "text/x-python",
   "name": "python",
   "nbconvert_exporter": "python",
   "pygments_lexer": "ipython3",
   "version": "3.7.3"
  }
 },
 "nbformat": 4,
 "nbformat_minor": 2
}
